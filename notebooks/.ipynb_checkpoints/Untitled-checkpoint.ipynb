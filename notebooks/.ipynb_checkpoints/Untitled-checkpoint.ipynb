{
 "cells": [
  {
   "cell_type": "code",
   "execution_count": null,
   "metadata": {},
   "outputs": [],
   "source": [
    "import matplotlib.pyplot as plt\n",
    "import networkx as nx\n",
    "import json, time\n",
    "from pymongo import MongoClient\n",
    "\n",
    "\n",
    "V3=nx.Graph()\n",
    "\n",
    "client = MongoClient('mongodb://localhost:27017/')\n",
    "db = client.dissertation\n",
    "\n",
    "twitterprofile = ['https://twitter.com/danstuart', 'https://twitter.com/polkaspots', 'http://twitter.com/#!/colinhayhurst', 'http://twitter.com/swimgeek', 'https://twitter.com/PshyMorphic', 'https://twitter.com/phpeach', 'http://twitter.com/mickhagen', 'https://twitter.com/#!/jibly']\n",
    "\n",
    "for eachprofile in twitterprofile:\n",
    "    recordexists = db.twitterlargenetwork.find({'twitterprofilename': str(eachprofile.split(\"/\")[-1])})\n",
    "    for eachfollower in recordexists[0]['followers']:\n",
    "        V3.add_edge(recordexists[0]['twitterprofileid'],eachfollower)\n",
    "\n",
    "print \"done\"\n",
    "print nx.info(V3)\n",
    "nx.draw(V3,with_labels=True,node_size=30,font_size=10)\n",
    "plt.figure(figsize=(500,300))\n",
    "plt.savefig(\"plot.png\")"
   ]
  },
  {
   "cell_type": "code",
   "execution_count": null,
   "metadata": {
    "collapsed": true
   },
   "outputs": [],
   "source": []
  }
 ],
 "metadata": {
  "kernelspec": {
   "display_name": "Python 2",
   "language": "python",
   "name": "python2"
  },
  "language_info": {
   "codemirror_mode": {
    "name": "ipython",
    "version": 2
   },
   "file_extension": ".py",
   "mimetype": "text/x-python",
   "name": "python",
   "nbconvert_exporter": "python",
   "pygments_lexer": "ipython2",
   "version": "2.7.11"
  }
 },
 "nbformat": 4,
 "nbformat_minor": 2
}
