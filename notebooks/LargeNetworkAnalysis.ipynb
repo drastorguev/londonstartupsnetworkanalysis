{
 "cells": [
  {
   "cell_type": "code",
   "execution_count": 1,
   "metadata": {},
   "outputs": [
    {
     "name": "stdout",
     "output_type": "stream",
     "text": [
      "done\n"
     ]
    }
   ],
   "source": [
    "import networkx as nx\n",
    "import json, time\n",
    "from pymongo import MongoClient\n",
    "\n",
    "V3=nx.Graph()\n",
    "\n",
    "client = MongoClient('mongodb://localhost:27017/')\n",
    "db = client.dissertation\n",
    "\n",
    "twitterprofile = ['https://twitter.com/danstuart', 'https://twitter.com/polkaspots', 'http://twitter.com/#!/colinhayhurst', 'http://twitter.com/swimgeek', 'https://twitter.com/PshyMorphic', 'https://twitter.com/phpeach', 'http://twitter.com/mickhagen', 'https://twitter.com/#!/jibly']\n",
    "\n",
    "for eachprofile in twitterprofile:\n",
    "    recordexists = db.twitterlargenetwork.find({'twitterprofilename': str(eachprofile.split(\"/\")[-1])})\n",
    "    for eachfollower in recordexists[0]['followers']:\n",
    "        V3.add_edge(recordexists[0]['twitterprofileid'],eachfollower)\n",
    "\n",
    "print \"done\""
   ]
  },
  {
   "cell_type": "code",
   "execution_count": 4,
   "metadata": {},
   "outputs": [
    {
     "name": "stderr",
     "output_type": "stream",
     "text": [
      "IOPub data rate exceeded.\n",
      "The notebook server will temporarily stop sending output\n",
      "to the client in order to avoid crashing it.\n",
      "To change this limit, set the config variable\n",
      "`--NotebookApp.iopub_data_rate_limit`.\n"
     ]
    }
   ],
   "source": [
    "from networkx.readwrite import json_graph\n",
    "\n",
    "testing = json_graph.node_link_data(V3)\n",
    "testing['links'] = [{'source': testing['nodes'][link['source']]['id'], 'target': testing['nodes'][link['target']]['id']} for link in testing['links']]\n",
    "\n",
    "targetjson = json.loads(json.dumps(testing))\n",
    "del targetjson[\"directed\"]\n",
    "del targetjson[\"graph\"]\n",
    "del targetjson[\"multigraph\"]\n",
    "print json.dumps(targetjson, indent=4)"
   ]
  },
  {
   "cell_type": "code",
   "execution_count": 7,
   "metadata": {},
   "outputs": [
    {
     "data": {
      "text/plain": [
       "'Name: \\nType: Graph\\nNumber of nodes: 26539\\nNumber of edges: 26879\\nAverage degree:   2.0256'"
      ]
     },
     "execution_count": 7,
     "metadata": {},
     "output_type": "execute_result"
    }
   ],
   "source": [
    "nx.info(V3)"
   ]
  },
  {
   "cell_type": "code",
   "execution_count": null,
   "metadata": {
    "collapsed": true
   },
   "outputs": [],
   "source": []
  }
 ],
 "metadata": {
  "kernelspec": {
   "display_name": "Python 2",
   "language": "python",
   "name": "python2"
  },
  "language_info": {
   "codemirror_mode": {
    "name": "ipython",
    "version": 2
   },
   "file_extension": ".py",
   "mimetype": "text/x-python",
   "name": "python",
   "nbconvert_exporter": "python",
   "pygments_lexer": "ipython2",
   "version": "2.7.11"
  }
 },
 "nbformat": 4,
 "nbformat_minor": 2
}
